{
  "nbformat": 4,
  "nbformat_minor": 0,
  "metadata": {
    "colab": {
      "provenance": []
    },
    "kernelspec": {
      "name": "python3",
      "display_name": "Python 3"
    },
    "language_info": {
      "name": "python"
    },
    "gpuClass": "standard"
  },
  "cells": [
    {
      "cell_type": "code",
      "execution_count": 1,
      "metadata": {
        "id": "WaB1L56edF_z"
      },
      "outputs": [],
      "source": [
        "import numpy as np\n",
        "import pandas as pd\n",
        "import seaborn as sn\n",
        "\n",
        "import torch\n",
        "from torch import nn\n",
        "from torch.utils.data import Dataset, DataLoader\n",
        "from torch.autograd import Variable\n",
        "\n",
        "import matplotlib.pyplot as plt\n",
        "\n",
        "from sklearn.metrics import accuracy_score, confusion_matrix\n",
        "from sklearn.preprocessing import OneHotEncoder, scale\n",
        "from sklearn.model_selection import train_test_split"
      ]
    },
    {
      "cell_type": "code",
      "source": [
        "features = 11\n",
        "output = 2\n",
        "np.set_printoptions(precision = 2)\n",
        "np.set_printoptions(suppress = True)"
      ],
      "metadata": {
        "id": "BB9ErN-0dxvU"
      },
      "execution_count": 2,
      "outputs": []
    },
    {
      "cell_type": "code",
      "source": [
        "class MultiLayerNetwork(nn.Module):\n",
        "  def __init__(self):\n",
        "    super().__init__()\n",
        "    self.layers = nn.Sequential(\n",
        "        nn.Linear(features, 128),\n",
        "        nn.ReLU(),\n",
        "        nn.Linear(128, 64),\n",
        "        nn.ReLU(),\n",
        "        nn.Linear(64, 32),\n",
        "        nn.ReLU(),        \n",
        "        nn.Linear(32, 8),\n",
        "        nn.ReLU(),\n",
        "        nn.Linear(8, output),\n",
        "    )\n",
        "\n",
        "  def forward(self, x):\n",
        "    x = self.layers(x)\n",
        "    return torch.sigmoid(x)"
      ],
      "metadata": {
        "id": "TrjrQpFVdSoW"
      },
      "execution_count": 3,
      "outputs": []
    },
    {
      "cell_type": "code",
      "source": [
        "class WineDataset(Dataset):\n",
        "  def __init__(self, X, Y):\n",
        "    self.X = X\n",
        "    self.Y = Y\n",
        "    \n",
        "  def __len__(self):\n",
        "    return len(self.X)\n",
        "\n",
        "  def __getitem__(self, idx):\n",
        "    X, Y = self.X[idx], self.Y[idx]\n",
        "    return X, Y"
      ],
      "metadata": {
        "id": "3vqk_b03yUbT"
      },
      "execution_count": 4,
      "outputs": []
    },
    {
      "cell_type": "code",
      "source": [
        "wine = np.loadtxt(\"vinhoVermelho.csv\", delimiter= \",\")\n",
        "#wine = np.loadtxt(\"winequality-red.csv\", delimiter= \";\", skiprows= 1)\n",
        "\n",
        "X = wine[:,:features]\n",
        "\n",
        "X = scale(X)\n",
        "\n",
        "label = wine[:, features:]\n",
        "\n",
        "oneHot = OneHotEncoder()\n",
        "\n",
        "label = oneHot.fit_transform(label).toarray()\n",
        "\n",
        "divisao = 1/3\n",
        "\n",
        "X_train2 , X_test , Y_train2 , Y_test = train_test_split(X , label, test_size = divisao)\n",
        "\n",
        "X_train, X_validation, Y_train, Y_validation = train_test_split(X_train2, Y_train2, test_size = divisao)\n",
        "\n",
        "print(len(X_train))\n",
        "print(len(X_validation))\n",
        "print(len(X_test))"
      ],
      "metadata": {
        "colab": {
          "base_uri": "https://localhost:8080/"
        },
        "id": "mIHYFsFtRCMz",
        "outputId": "a8391fc0-6727-4ab9-ec19-ebb76348eb31"
      },
      "execution_count": 5,
      "outputs": [
        {
          "output_type": "stream",
          "name": "stdout",
          "text": [
            "710\n",
            "356\n",
            "533\n"
          ]
        }
      ]
    },
    {
      "cell_type": "code",
      "source": [
        "train_dataset = WineDataset(X_train, Y_train)\n",
        "validation_dataset = WineDataset(X_validation, Y_validation)\n",
        "test_dataset = WineDataset(X_test, Y_test)\n",
        "\n",
        "train_dataloader = DataLoader(train_dataset, batch_size=len(train_dataset), shuffle=True)\n",
        "validation_dataloader = DataLoader(validation_dataset, batch_size=len(train_dataset), shuffle=True)\n",
        "test_dataloader = DataLoader(test_dataset, batch_size=len(train_dataset), shuffle=True)"
      ],
      "metadata": {
        "id": "S-qX7c_S4AkS"
      },
      "execution_count": 6,
      "outputs": []
    },
    {
      "cell_type": "code",
      "source": [
        "device = \"cuda\" if torch.cuda.is_available() else \"cpu\"\n",
        "print(f\"Rodando {device}\")"
      ],
      "metadata": {
        "id": "1QdaTxb0TatE",
        "colab": {
          "base_uri": "https://localhost:8080/"
        },
        "outputId": "417f3086-c097-4f30-8133-88605d896272"
      },
      "execution_count": 7,
      "outputs": [
        {
          "output_type": "stream",
          "name": "stdout",
          "text": [
            "Rodando cpu\n"
          ]
        }
      ]
    },
    {
      "cell_type": "code",
      "source": [
        "model = MultiLayerNetwork().to(device)"
      ],
      "metadata": {
        "id": "_nELcuMPTTIM"
      },
      "execution_count": 8,
      "outputs": []
    },
    {
      "cell_type": "code",
      "source": [
        "#basicamente essa função de erro vê o numero que a rede deu como resposta\n",
        "#e se o valor for perto do correto, o erro é muito baixo\n",
        "#e se o valor for muito distante, o erro é muito alto\n",
        "#aqui usa a versão binaria\n",
        "lossfunc = nn.BCELoss()\n",
        "\n",
        "#SGD calcula o gradiente do menor erro encontrado para atualizar os parametros\n",
        "optimizer = torch.optim.SGD(model.parameters(), lr = 0.1)"
      ],
      "metadata": {
        "id": "MRoshnmlSmYo"
      },
      "execution_count": 9,
      "outputs": []
    },
    {
      "cell_type": "code",
      "source": [
        "def plot_losses(losses):\n",
        "  fig = plt.figure(figsize=(13, 5))\n",
        "  ax = fig.gca()\n",
        "  for loss_name, loss_values in losses.items():  \n",
        "    ax.plot(loss_values, label=loss_name)\n",
        "  ax.legend(fontsize=\"16\")\n",
        "  ax.set_xlabel(\"Iteration\", fontsize=\"16\")\n",
        "  ax.set_ylabel(\"Loss\", fontsize=\"16\")\n",
        "  ax.set_title(\"Loss vs iterations\", fontsize=\"16\");"
      ],
      "metadata": {
        "id": "VLBlaVvrom7g"
      },
      "execution_count": 10,
      "outputs": []
    },
    {
      "cell_type": "code",
      "source": [
        "def train(model, dataloader, lossfunc, optimizer):\n",
        "  model.train()\n",
        "  cumloss = 0.0\n",
        "\n",
        "  for X, Y in dataloader:\n",
        "    \n",
        "    X = X.unsqueeze(1).float().to(device)\n",
        "    Y = Y.unsqueeze(1).float().to(device)\n",
        "    pred = model(X)\n",
        "    loss = lossfunc(pred, Y)\n",
        "\n",
        "    #zera os gradientes acumulados\n",
        "    optimizer.zero_grad()\n",
        "    #computa os gradientes\n",
        "    loss.backward()\n",
        "    #anda na direção que reduz o erro local\n",
        "    optimizer.step()\n",
        "\n",
        "\n",
        "    # loss é um tensor para obter valor float\n",
        "    cumloss += loss.item()\n",
        "\n",
        "  return cumloss / len(dataloader)"
      ],
      "metadata": {
        "id": "53TBNCD0TQKm"
      },
      "execution_count": 11,
      "outputs": []
    },
    {
      "cell_type": "code",
      "source": [
        "def test(model, dataloader, lossfunc):\n",
        "  model.eval()\n",
        "  list_pred = []\n",
        "  cumloss = 0.0\n",
        "\n",
        "  with torch.no_grad():\n",
        "    for X, Y in dataloader:\n",
        "      X = X.unsqueeze(1).float().to(device)\n",
        "      Y = Y.unsqueeze(1).float().to(device)\n",
        "      pred = model(X)\n",
        "      list_pred.append(pred)\n",
        "      loss = lossfunc(pred, Y)\n",
        "      cumloss += loss.item()\n",
        "\n",
        "  return cumloss / len(dataloader)"
      ],
      "metadata": {
        "id": "IPxll2zr7WKu"
      },
      "execution_count": 12,
      "outputs": []
    },
    {
      "cell_type": "code",
      "source": [
        "epoch = 800\n",
        "train_losses = []\n",
        "validation_losses = []\n",
        "\n",
        "for t in range(epoch):\n",
        "  train_loss = train(model, train_dataloader, lossfunc, optimizer)\n",
        "  if t  % 10 == 0:\n",
        "    print(f\"Epoch: {t}; Train Loss: {train_loss}\")\n",
        "  train_losses.append(train_loss)\n",
        "  #validation_losses.append(test(model, validation_dataloader, lossfunc))\n",
        "  \n",
        "\n",
        "#train_losses = {\"train loss\": train_losses}\n",
        "#validation_losses = {'validation loss': validation_losses}\n",
        "#print(f\"Test Loss: {validation_losses}\")\n",
        "losses = {\"train loss\": train_losses, \"test loss\": validation_losses}\n",
        "plot_losses(losses)"
      ],
      "metadata": {
        "colab": {
          "base_uri": "https://localhost:8080/",
          "height": 1000
        },
        "id": "4YnG6JNh7k2n",
        "outputId": "ddef8cb9-b2ff-497a-ea5e-5e0ed70676d0"
      },
      "execution_count": 13,
      "outputs": [
        {
          "output_type": "stream",
          "name": "stdout",
          "text": [
            "Epoch: 0; Train Loss: 0.6987531781196594\n",
            "Epoch: 10; Train Loss: 0.6965417265892029\n",
            "Epoch: 20; Train Loss: 0.694983720779419\n",
            "Epoch: 30; Train Loss: 0.6938664317131042\n",
            "Epoch: 40; Train Loss: 0.693056583404541\n",
            "Epoch: 50; Train Loss: 0.692444384098053\n",
            "Epoch: 60; Train Loss: 0.6919670701026917\n",
            "Epoch: 70; Train Loss: 0.6915757060050964\n",
            "Epoch: 80; Train Loss: 0.6912254095077515\n",
            "Epoch: 90; Train Loss: 0.6908895373344421\n",
            "Epoch: 100; Train Loss: 0.6905495524406433\n",
            "Epoch: 110; Train Loss: 0.6901893019676208\n",
            "Epoch: 120; Train Loss: 0.6897940039634705\n",
            "Epoch: 130; Train Loss: 0.689349889755249\n",
            "Epoch: 140; Train Loss: 0.6888417601585388\n",
            "Epoch: 150; Train Loss: 0.6882523894309998\n",
            "Epoch: 160; Train Loss: 0.687560498714447\n",
            "Epoch: 170; Train Loss: 0.6867374181747437\n",
            "Epoch: 180; Train Loss: 0.6857531070709229\n",
            "Epoch: 190; Train Loss: 0.684557318687439\n",
            "Epoch: 200; Train Loss: 0.6831053495407104\n",
            "Epoch: 210; Train Loss: 0.6813165545463562\n",
            "Epoch: 220; Train Loss: 0.6791090965270996\n",
            "Epoch: 230; Train Loss: 0.6763410568237305\n",
            "Epoch: 240; Train Loss: 0.6728168725967407\n",
            "Epoch: 250; Train Loss: 0.6683522462844849\n",
            "Epoch: 260; Train Loss: 0.6626484394073486\n",
            "Epoch: 270; Train Loss: 0.6553218364715576\n",
            "Epoch: 280; Train Loss: 0.6459259390830994\n",
            "Epoch: 290; Train Loss: 0.6343514919281006\n",
            "Epoch: 300; Train Loss: 0.6201585531234741\n",
            "Epoch: 310; Train Loss: 0.6032681465148926\n",
            "Epoch: 320; Train Loss: 0.5841198563575745\n",
            "Epoch: 330; Train Loss: 0.5642538070678711\n",
            "Epoch: 340; Train Loss: 0.545590341091156\n",
            "Epoch: 350; Train Loss: 0.5298240780830383\n",
            "Epoch: 360; Train Loss: 0.5174660086631775\n",
            "Epoch: 370; Train Loss: 0.508215069770813\n",
            "Epoch: 380; Train Loss: 0.5011714100837708\n",
            "Epoch: 390; Train Loss: 0.4956189692020416\n",
            "Epoch: 400; Train Loss: 0.4909352958202362\n",
            "Epoch: 410; Train Loss: 0.4865378737449646\n",
            "Epoch: 420; Train Loss: 0.4827311038970947\n",
            "Epoch: 430; Train Loss: 0.4793075919151306\n",
            "Epoch: 440; Train Loss: 0.47615519165992737\n",
            "Epoch: 450; Train Loss: 0.4730929136276245\n",
            "Epoch: 460; Train Loss: 0.47015878558158875\n",
            "Epoch: 470; Train Loss: 0.4673492908477783\n",
            "Epoch: 480; Train Loss: 0.4646190404891968\n",
            "Epoch: 490; Train Loss: 0.4618503153324127\n",
            "Epoch: 500; Train Loss: 0.4591074287891388\n",
            "Epoch: 510; Train Loss: 0.456380158662796\n",
            "Epoch: 520; Train Loss: 0.453602135181427\n",
            "Epoch: 530; Train Loss: 0.4508056342601776\n",
            "Epoch: 540; Train Loss: 0.44803234934806824\n",
            "Epoch: 550; Train Loss: 0.4452812969684601\n",
            "Epoch: 560; Train Loss: 0.44244882464408875\n",
            "Epoch: 570; Train Loss: 0.4395729601383209\n",
            "Epoch: 580; Train Loss: 0.4366541802883148\n",
            "Epoch: 590; Train Loss: 0.43374010920524597\n",
            "Epoch: 600; Train Loss: 0.43080633878707886\n",
            "Epoch: 610; Train Loss: 0.4278046488761902\n",
            "Epoch: 620; Train Loss: 0.42482471466064453\n",
            "Epoch: 630; Train Loss: 0.421833336353302\n",
            "Epoch: 640; Train Loss: 0.41868874430656433\n",
            "Epoch: 650; Train Loss: 0.41539373993873596\n",
            "Epoch: 660; Train Loss: 0.41201484203338623\n",
            "Epoch: 670; Train Loss: 0.4085901379585266\n",
            "Epoch: 680; Train Loss: 0.40512195229530334\n",
            "Epoch: 690; Train Loss: 0.4014895260334015\n",
            "Epoch: 700; Train Loss: 0.39777350425720215\n",
            "Epoch: 710; Train Loss: 0.3939550220966339\n",
            "Epoch: 720; Train Loss: 0.3901834487915039\n",
            "Epoch: 730; Train Loss: 0.3870435655117035\n",
            "Epoch: 740; Train Loss: 0.3907836973667145\n",
            "Epoch: 750; Train Loss: 0.40084409713745117\n",
            "Epoch: 760; Train Loss: 0.39464157819747925\n",
            "Epoch: 770; Train Loss: 0.3969269096851349\n",
            "Epoch: 780; Train Loss: 0.39613109827041626\n",
            "Epoch: 790; Train Loss: 0.39270418882369995\n"
          ]
        },
        {
          "output_type": "display_data",
          "data": {
            "text/plain": [
              "<Figure size 936x360 with 1 Axes>"
            ],
            "image/png": "[encoded data removed]"
          },
          "metadata": {
            "needs_background": "light"
          }
        }
      ]
    },
    {
      "cell_type": "code",
      "source": [
        "act_class = []\n",
        "pred_class = []\n",
        "\n",
        "X = Variable(torch.from_numpy(X_validation).float())\n",
        "Y = Variable(torch.from_numpy(Y_validation).float())\n",
        "\n",
        "train_out = oneHot.inverse_transform(model(X).data.numpy())\n",
        "\n",
        "\n",
        "print('Training accuracy', accuracy_score(oneHot.inverse_transform(Y), train_out))\n",
        "\n",
        "test_out=oneHot.inverse_transform(model(torch.from_numpy(X_test).float()).data.numpy())\n",
        "print('prediction accuracy', accuracy_score(oneHot.inverse_transform(Y_test), test_out))\n",
        "\n",
        "act_class.append(oneHot.inverse_transform(Y_test))\n",
        "pred_class.append(test_out)\n",
        "\n",
        "confusion = confusion_matrix(oneHot.inverse_transform(Y_test), test_out)\n"
      ],
      "metadata": {
        "colab": {
          "base_uri": "https://localhost:8080/"
        },
        "id": "E8yXNJ-SiRVi",
        "outputId": "35bd73dc-102d-42ec-e075-bac62255d6d8"
      },
      "execution_count": 14,
      "outputs": [
        {
          "output_type": "stream",
          "name": "stdout",
          "text": [
            "Training accuracy 0.7191011235955056\n",
            "prediction accuracy 0.7523452157598499\n"
          ]
        }
      ]
    },
    {
      "cell_type": "code",
      "source": [
        "\n",
        "\n",
        "print(confusion)\n",
        "#sn.set(font_scale=1.4) # for label size\n",
        "sn.heatmap(confusion, annot=True, fmt=\"\")\n",
        "#sn.heatmap(confusion, annot=True, annot_kws={\"size\": 16}) # font size\n",
        "\n"
      ],
      "metadata": {
        "colab": {
          "base_uri": "https://localhost:8080/",
          "height": 317
        },
        "id": "vfb5AARLodLY",
        "outputId": "1fad8aa2-72af-4df6-af4a-858827c535e1"
      },
      "execution_count": 15,
      "outputs": [
        {
          "output_type": "stream",
          "name": "stdout",
          "text": [
            "[[207  29]\n",
            " [103 194]]\n"
          ]
        },
        {
          "output_type": "execute_result",
          "data": {
            "text/plain": [
              "<matplotlib.axes._subplots.AxesSubplot at 0x7fa9a36f82e0>"
            ]
          },
          "metadata": {},
          "execution_count": 15
        },
        {
          "output_type": "display_data",
          "data": {
            "text/plain": [
              "<Figure size 432x288 with 2 Axes>"
            ],
            "image/png": "[encoded data removed]"
          },
          "metadata": {
            "needs_background": "light"
          }
        }
      ]
    },
    {
      "cell_type": "code",
      "source": [
        "sn.heatmap(confusion/np.sum(confusion), annot=True, \n",
        "            fmt='.2%', cmap='Blues')"
      ],
      "metadata": {
        "colab": {
          "base_uri": "https://localhost:8080/",
          "height": 282
        },
        "id": "HWU8zniNwbOw",
        "outputId": "e228e788-4f18-42bc-8596-a8f6883ef441"
      },
      "execution_count": 16,
      "outputs": [
        {
          "output_type": "execute_result",
          "data": {
            "text/plain": [
              "<matplotlib.axes._subplots.AxesSubplot at 0x7fa9a09855b0>"
            ]
          },
          "metadata": {},
          "execution_count": 16
        },
        {
          "output_type": "display_data",
          "data": {
            "text/plain": [
              "<Figure size 432x288 with 2 Axes>"
            ],
            "image/png": "[encoded data removed]"
          },
          "metadata": {
            "needs_background": "light"
          }
        }
      ]
    }
  ]
}