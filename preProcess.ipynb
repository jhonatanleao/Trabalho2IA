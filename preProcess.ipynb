{
  "nbformat": 4,
  "nbformat_minor": 0,
  "metadata": {
    "colab": {
      "provenance": []
    },
    "kernelspec": {
      "name": "python3",
      "display_name": "Python 3"
    },
    "language_info": {
      "name": "python"
    }
  },
  "cells": [
    {
      "cell_type": "code",
      "execution_count": 21,
      "metadata": {
        "id": "ugAFYi9zLY8j"
      },
      "outputs": [],
      "source": [
        "import pandas as pd\n",
        "import numpy as np\n",
        "from sklearn import preprocessing\n",
        "import seaborn as sns\n",
        "import matplotlib.pyplot as plt"
      ]
    },
    {
      "cell_type": "code",
      "source": [
        "df = pd.read_csv(\"winequality-red.csv\", delimiter=\";\")\n",
        "\n",
        "soma = df[\"quality\"].value_counts()\n",
        "\n",
        "plt.bar(soma.index, soma)\n",
        "plt.suptitle('Distribuição das notas dos vinhos', size=15)\n",
        "plt.xlabel('Notas',)\n",
        "plt.ylabel('Quantidade',)\n",
        "plt.show()"
      ],
      "metadata": {
        "colab": {
          "base_uri": "https://localhost:8080/",
          "height": 308
        },
        "id": "Fn5GdUYBFD8L",
        "outputId": "25c3a58c-7b5f-42fa-fa94-ebb37644cb41"
      },
      "execution_count": 17,
      "outputs": [
        {
          "output_type": "display_data",
          "data": {
            "text/plain": [
              "<Figure size 432x288 with 1 Axes>"
            ],
            "image/png": "[encoded data removed]"
          },
          "metadata": {
            "needs_background": "light"
          }
        }
      ]
    },
    {
      "cell_type": "code",
      "source": [
        "df = pd.read_csv(\"winequality-red.csv\", delimiter=\";\")\n",
        "\n",
        "df[\"quality\"] = df[\"quality\"].map({3:1,\n",
        "                                   4:1,\n",
        "                                   5:1,\n",
        "                                   6:2,\n",
        "                                   7:2,\n",
        "                                   8:2})\n",
        "print(df.value_counts(df.quality))\n",
        "df.to_csv(\"vinhoVermelho.csv\",header=False, index=False)\n",
        "\n",
        "soma = df[\"quality\"].value_counts()\n",
        "\n",
        "fig, ax = plt.subplots()\n",
        "ax.bar(soma.index, soma)\n",
        "ax.set_xlim(0, 3)\n",
        "plt.suptitle('Distribuição das notas dos vinhos', size=15)\n",
        "plt.xlabel('Notas',)\n",
        "plt.ylabel('Quantidade',)\n",
        "plt.xticks(range(len(soma)+1))\n",
        "plt.show()\n",
        "\n",
        "plt.show()\n"
      ],
      "metadata": {
        "id": "VWuNtVgnM57t",
        "colab": {
          "base_uri": "https://localhost:8080/",
          "height": 377
        },
        "outputId": "fcf0437d-e4db-4362-f629-7a11bc946daa"
      },
      "execution_count": 41,
      "outputs": [
        {
          "output_type": "stream",
          "name": "stdout",
          "text": [
            "quality\n",
            "2    855\n",
            "1    744\n",
            "dtype: int64\n"
          ]
        },
        {
          "output_type": "display_data",
          "data": {
            "text/plain": [
              "<Figure size 432x288 with 1 Axes>"
            ],
            "image/png": "[encoded data removed]"
          },
          "metadata": {
            "needs_background": "light"
          }
        }
      ]
    },
    {
      "cell_type": "code",
      "source": [
        "df = pd.read_csv(\"winequality-white.csv\", delimiter=\";\")\n",
        "print(df.value_counts(df.quality))\n",
        "df[\"quality\"] = df[\"quality\"].map({3:1,\n",
        "                                   4:1,\n",
        "                                   5:2,\n",
        "                                   6:3,\n",
        "                                   7:4,\n",
        "                                   8:4,\n",
        "                                   9:4})\n",
        "print(df.value_counts(df.quality))\n",
        "df.to_csv(\"vinhoBranco.csv\",header=False, index=False)\n"
      ],
      "metadata": {
        "colab": {
          "base_uri": "https://localhost:8080/"
        },
        "id": "d8DJ9seVrNvl",
        "outputId": "f5ecb49a-a8cc-4c05-ce90-514cda8452de"
      },
      "execution_count": null,
      "outputs": [
        {
          "output_type": "stream",
          "name": "stdout",
          "text": [
            "quality\n",
            "6    2198\n",
            "5    1457\n",
            "7     880\n",
            "8     175\n",
            "4     163\n",
            "3      20\n",
            "9       5\n",
            "dtype: int64\n",
            "quality\n",
            "3    2198\n",
            "2    1457\n",
            "4    1060\n",
            "1     183\n",
            "dtype: int64\n"
          ]
        }
      ]
    }
  ]
}